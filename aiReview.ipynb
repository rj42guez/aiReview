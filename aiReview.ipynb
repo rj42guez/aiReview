{
 "cells": [
  {
   "cell_type": "markdown",
   "id": "3f8300bb",
   "metadata": {},
   "source": [
    "# aiReview\n",
    "\n",
    "aiReview is an artificial intelligence-based system that creates a reviewer (in the form of an HTML file) from handwritten lecture notes. It uses optical character recognition (OCR) in converting an image of handwritten text into a machine-readable text file. Unlike other OCR software, it also features an annotation-conversion system that converts underlined words in the input with blanks and encircled words into bolded words.\n",
    "\n",
    "This project is developed by: \n",
    "\n",
    "- A.V. Cayetano (THX)\n",
    "- J. M. Choa (THX)\n",
    "- H. A. Macalisang (THU)\n",
    "- R. J. Portuguez (THW)\n",
    "\n",
    "Thematic inspiration:\n",
    "SDG 4 – Quality Education."
   ]
  },
  {
   "cell_type": "code",
   "execution_count": null,
   "id": "0d27dd7d",
   "metadata": {},
   "outputs": [],
   "source": []
  }
 ],
 "metadata": {
  "kernelspec": {
   "display_name": "Python 3 (ipykernel)",
   "language": "python",
   "name": "python3"
  },
  "language_info": {
   "codemirror_mode": {
    "name": "ipython",
    "version": 3
   },
   "file_extension": ".py",
   "mimetype": "text/x-python",
   "name": "python",
   "nbconvert_exporter": "python",
   "pygments_lexer": "ipython3",
   "version": "3.9.7"
  }
 },
 "nbformat": 4,
 "nbformat_minor": 5
}
