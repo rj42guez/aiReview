{
 "cells": [
  {
   "cell_type": "code",
   "execution_count": 1,
   "id": "cd4f3929",
   "metadata": {},
   "outputs": [],
   "source": [
    "from matplotlib import pyplot as plt\n",
    "\n",
    "def plot_img(img, title, mode=\"gray\", size=(8, 8)):\n",
    "    plt.figure(figsize=size, dpi=80)\n",
    "    if mode == \"gray\":\n",
    "        plt.imshow(img, cmap=plt.cm.gray)\n",
    "    else:\n",
    "        plt.imshow(img)\n",
    "    plt.title(title)\n",
    "\n",
    "    plt.show()\n",
    "    \n",
    "def plot_img_rgb(img, title):\n",
    "    plt.figure(figsize=(8, 8), dpi=80)\n",
    "    plt.imshow(img)\n",
    "    plt.title(title)\n",
    "\n",
    "    plt.show()\n",
    "    \n",
    "def plot_img_inline(imgs, title):\n",
    "    fig = plt.figure(figsize=(20, 20))\n",
    "    for x in range(len(imgs)):\n",
    "        fig.add_subplot(1, len(imgs), x+1)\n",
    "        plt.imshow(imgs[x], cmap=plt.cm.gray)\n",
    "        plt.axis('off')\n",
    "    plt.title(title)\n",
    "    plt.show()"
   ]
  },
  {
   "cell_type": "code",
   "execution_count": null,
   "id": "30f4db17",
   "metadata": {},
   "outputs": [],
   "source": []
  },
  {
   "cell_type": "code",
   "execution_count": null,
   "id": "e6c31b11",
   "metadata": {},
   "outputs": [],
   "source": []
  }
 ],
 "metadata": {
  "kernelspec": {
   "display_name": "Python 3 (ipykernel)",
   "language": "python",
   "name": "python3"
  },
  "language_info": {
   "codemirror_mode": {
    "name": "ipython",
    "version": 3
   },
   "file_extension": ".py",
   "mimetype": "text/x-python",
   "name": "python",
   "nbconvert_exporter": "python",
   "pygments_lexer": "ipython3",
   "version": "3.10.4"
  }
 },
 "nbformat": 4,
 "nbformat_minor": 5
}
